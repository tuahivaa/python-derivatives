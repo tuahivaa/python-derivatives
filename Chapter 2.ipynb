{
 "cells": [
  {
   "cell_type": "code",
   "execution_count": 67,
   "metadata": {},
   "outputs": [],
   "source": [
    "import math\n",
    "import numpy as np\n",
    "import pandas as pd\n",
    "import scipy.stats as scs\n",
    "import statsmodels.api as sm\n",
    "import matplotlib as mpl\n",
    "import matplotlib.pyplot as plt\n",
    "import math as math\n",
    "\n",
    "mpl.rcParams['font.family'] = 'serif'"
   ]
  },
  {
   "cell_type": "code",
   "execution_count": 68,
   "metadata": {},
   "outputs": [],
   "source": [
    "#\n",
    "# Analyzing Returns from Geometric Brownian Motion\n",
    "#\n",
    "# Helper Function\n",
    "#   \n",
    "def dN(x, mu, sigma):   \n",
    "    ''' Probability density function of a normal random variable x'''\n",
    "    #mu: float \n",
    "    #   expect value\n",
    "    #sigma: float\n",
    "    #   standard deviation\n",
    "    z = (x - mu) / sigma\n",
    "    pdf = np.exp(-0.5 * z ** 2) / math.sqrt(2 * math.pi * sigma ** 2)\n",
    "    return pdf"
   ]
  },
  {
   "cell_type": "code",
   "execution_count": 69,
   "metadata": {},
   "outputs": [
    {
     "ename": "ValueError",
     "evalue": "math domain error",
     "output_type": "error",
     "traceback": [
      "\u001b[1;31m---------------------------------------------------------------------------\u001b[0m",
      "\u001b[1;31mValueError\u001b[0m                                Traceback (most recent call last)",
      "\u001b[1;32mc:\\Users\\guill\\Desktop\\python derivatives\\Chapter 2.ipynb Cell 3\u001b[0m in \u001b[0;36m<cell line: 30>\u001b[1;34m()\u001b[0m\n\u001b[0;32m     <a href='vscode-notebook-cell:/c%3A/Users/guill/Desktop/python%20derivatives/Chapter%202.ipynb#W3sZmlsZQ%3D%3D?line=26'>27</a>\u001b[0m     plt\u001b[39m.\u001b[39mplot(V)\n\u001b[0;32m     <a href='vscode-notebook-cell:/c%3A/Users/guill/Desktop/python%20derivatives/Chapter%202.ipynb#W3sZmlsZQ%3D%3D?line=27'>28</a>\u001b[0m     plt\u001b[39m.\u001b[39mshow()\n\u001b[1;32m---> <a href='vscode-notebook-cell:/c%3A/Users/guill/Desktop/python%20derivatives/Chapter%202.ipynb#W3sZmlsZQ%3D%3D?line=29'>30</a>\u001b[0m simulate_gbm()\n",
      "\u001b[1;32mc:\\Users\\guill\\Desktop\\python derivatives\\Chapter 2.ipynb Cell 3\u001b[0m in \u001b[0;36msimulate_gbm\u001b[1;34m()\u001b[0m\n\u001b[0;32m     <a href='vscode-notebook-cell:/c%3A/Users/guill/Desktop/python%20derivatives/Chapter%202.ipynb#W3sZmlsZQ%3D%3D?line=20'>21</a>\u001b[0m     S[t] \u001b[39m=\u001b[39m S[t \u001b[39m-\u001b[39m \u001b[39m1\u001b[39m] \u001b[39m*\u001b[39m np\u001b[39m.\u001b[39mexp((r \u001b[39m-\u001b[39m vol \u001b[39m*\u001b[39m\u001b[39m*\u001b[39m \u001b[39m2\u001b[39m \u001b[39m/\u001b[39m \u001b[39m2\u001b[39m) \u001b[39m*\u001b[39m dt \u001b[39m+\u001b[39m vol \u001b[39m*\u001b[39m rand[t] \u001b[39m*\u001b[39m math\u001b[39m.\u001b[39msqrt(dt))\n\u001b[0;32m     <a href='vscode-notebook-cell:/c%3A/Users/guill/Desktop/python%20derivatives/Chapter%202.ipynb#W3sZmlsZQ%3D%3D?line=21'>22</a>\u001b[0m     gbm \u001b[39m=\u001b[39m pd\u001b[39m.\u001b[39mDataFrame()\n\u001b[1;32m---> <a href='vscode-notebook-cell:/c%3A/Users/guill/Desktop/python%20derivatives/Chapter%202.ipynb#W3sZmlsZQ%3D%3D?line=22'>23</a>\u001b[0m     V[t] \u001b[39m=\u001b[39m math\u001b[39m.\u001b[39;49mlog(S[t] \u001b[39m-\u001b[39;49m S[t\u001b[39m-\u001b[39;49m\u001b[39m1\u001b[39;49m])\n\u001b[0;32m     <a href='vscode-notebook-cell:/c%3A/Users/guill/Desktop/python%20derivatives/Chapter%202.ipynb#W3sZmlsZQ%3D%3D?line=24'>25</a>\u001b[0m plt\u001b[39m.\u001b[39mplot(S)\n\u001b[0;32m     <a href='vscode-notebook-cell:/c%3A/Users/guill/Desktop/python%20derivatives/Chapter%202.ipynb#W3sZmlsZQ%3D%3D?line=25'>26</a>\u001b[0m plt\u001b[39m.\u001b[39mshow()\n",
      "\u001b[1;31mValueError\u001b[0m: math domain error"
     ]
    }
   ],
   "source": [
    "def simulate_gbm():\n",
    "# model parameters\n",
    "    S0 = 100.0 # initial index level\n",
    "    T = 10.0 # time horizon\n",
    "    r = 0.05 # risk-less short rate\n",
    "    vol = 0.2 # instantaneous volatility\n",
    "    # simulation parameters\n",
    "    np.random.seed(250000) #using a seed so I can get the same simulation\n",
    "    M = 252 * 10 # time steps\n",
    "    I = 1 # index level paths\n",
    "    dt = 1 / 252. # fixed for simplicity\n",
    "    df = math.exp(-r * dt) # discount factor\n",
    "    # stock price paths\n",
    "    rand = np.random.standard_normal((M, I)) # random numbers\n",
    "    S = np.zeros_like(rand) # stock matrix\n",
    "    S[0] = S0 # initial values\n",
    "    V = np.zeros_like(rand)\n",
    "    V[0] = 0\n",
    "    for t in range(1, M): # stock price paths\n",
    "        #discrete verions given the the difference equation for times t\n",
    "        S[t] = S[t - 1] * np.exp((r - vol ** 2 / 2) * dt + vol * rand[t] * math.sqrt(dt))\n",
    "        gbm = pd.DataFrame()\n",
    "        V[t] = math.log(S[t]) - math.log(S[t-1])\n",
    "    \n",
    "    plt.plot(S)\n",
    "    plt.show()\n",
    "    plt.plot(V)\n",
    "    plt.show()\n",
    "\n",
    "simulate_gbm()\n"
   ]
  },
  {
   "cell_type": "code",
   "execution_count": 51,
   "metadata": {},
   "outputs": [],
   "source": [
    "# Return Sample Statistics and Normality Tests\n",
    "def print_statistics(data):\n",
    "    print(\"RETURN SAMPLE STATISTICS\")\n",
    "    print(\"---------------------------------------------\")\n",
    "    print(\"Mean of Daily Log Returns %9.6f\" % np.mean(data['returns']))\n",
    "    print(\"Std of Daily Log Returns %9.6f\" % np.std(data['returns']))\n",
    "    print(\"Mean of Annua. Log Returns %9.6f\" % (np.mean(data['returns']) * 252))\n",
    "    print(\"Std of Annua. Log Returns %9.6f\" %  (np.std(data['returns']) * math.sqrt(252)))\n",
    "    print(\"---------------------------------------------\")\n",
    "    print(\"Skew of Sample Log Returns %9.6f\" % scs.skew(data['returns']))\n",
    "    print(\"---------------------------------------------\")"
   ]
  },
  {
   "cell_type": "code",
   "execution_count": 52,
   "metadata": {},
   "outputs": [],
   "source": [
    "#\n",
    "# Graphical Output\n",
    "#\n",
    "# daily quotes and log returns\n",
    "def quotes_returns(data):\n",
    "    ''' Plots quotes and returns. '''\n",
    "    plt.figure(figsize=(9, 6))\n",
    "    plt.subplot(211)\n",
    "    data['index'].plot()\n",
    "    plt.ylabel('daily quotes')\n",
    "    plt.grid(True)\n",
    "    plt.axis('tight')\n",
    "    plt.subplot(212)\n",
    "    data['returns'].plot()\n",
    "    plt.ylabel('daily log returns')\n",
    "    plt.grid(True)\n",
    "    plt.axis('tight')\n",
    "    \n",
    "# histogram of annualized daily log returns\n",
    "def return_histogram(data):\n",
    "    ''' Plots a histogram of the returns. '''\n",
    "    plt.figure(figsize=(9, 5))\n",
    "    x = np.linspace(min(data['returns']), max(data['returns']), 100)\n",
    "    plt.hist(np.array(data['returns']), bins=50, normed=True)\n",
    "    y = dN(x, np.mean(data['returns']), np.std(data['returns']))\n",
    "    plt.plot(x, y, linewidth=2)\n",
    "    plt.xlabel('log returns')\n",
    "    plt.ylabel('frequency/probability')\n",
    "    lt.grid(True)\n",
    "\n",
    "# Q-Q plot of annualized daily log returns\n",
    "def return_qqplot(data):\n",
    "    ''' Generates a Q-Q plot of the returns.'''\n",
    "    plt.figure(figsize=(9, 5))\n",
    "    sm.qqplot(data['returns'], line='s')\n",
    "    plt.grid(True)\n",
    "    plt.xlabel('theoretical quantiles')\n",
    "    plt.ylabel('sample quantiles')\n"
   ]
  },
  {
   "cell_type": "code",
   "execution_count": 53,
   "metadata": {},
   "outputs": [],
   "source": [
    "# realized volatility\n",
    "def realized_volatility(data):\n",
    "    ''' Plots the realized volatility. '''\n",
    "    plt.figure(figsize=(9, 5))\n",
    "    data['rea_vol'].plot()\n",
    "    plt.ylabel('realized volatility')\n",
    "    plt.grid(True)\n",
    "\n",
    "\n",
    "# mean return, volatility and correlation (252 days moving = 1 year)\n",
    "def rolling_statistics(data):\n",
    "    ''' Calculates and plots rolling statistics (mean, std, correlation). '''\n",
    "    plt.figure(figsize=(11, 8))\n",
    "    plt.subplot(311)\n",
    "    mr = pd.rolling_mean(data['returns'], 252) * 252\n",
    "    mr.plot()\n",
    "    plt.grid(True)\n",
    "    plt.ylabel('returns (252d)')\n",
    "    plt.axhline(mr.mean(), color='r', ls='dashed', lw=1.5)\n",
    "    plt.subplot(312)\n",
    "    vo = pd.rolling_std(data['returns'], 252) * math.sqrt(252)\n",
    "    vo.plot()\n",
    "    plt.grid(True)\n",
    "    plt.ylabel('volatility (252d)')\n",
    "    plt.axhline(vo.mean(), color='r', ls='dashed', lw=1.5)\n",
    "    vx = plt.axis()\n",
    "    plt.subplot(313)\n",
    "    co = pd.rolling_corr(mr, vo, 252)\n",
    "    co.plot()\n",
    "    plt.grid(True)\n",
    "    plt.ylabel('correlation (252d)')\n",
    "    cx = plt.axis()\n",
    "    plt.axis([vx[0], vx[1], cx[2], cx[3]])\n",
    "    plt.axhline(co.mean(), color='r', ls='dashed', lw=1.5)"
   ]
  },
  {
   "cell_type": "code",
   "execution_count": 54,
   "metadata": {},
   "outputs": [
    {
     "ename": "ModuleNotFoundError",
     "evalue": "No module named 'pandas.io.data'",
     "output_type": "error",
     "traceback": [
      "\u001b[1;31m---------------------------------------------------------------------------\u001b[0m",
      "\u001b[1;31mModuleNotFoundError\u001b[0m                       Traceback (most recent call last)",
      "\u001b[1;32mc:\\Users\\guill\\Desktop\\python derivatives\\Chapter 2.ipynb Cell 8\u001b[0m in \u001b[0;36m<cell line: 1>\u001b[1;34m()\u001b[0m\n\u001b[1;32m----> <a href='vscode-notebook-cell:/c%3A/Users/guill/Desktop/python%20derivatives/Chapter%202.ipynb#X11sZmlsZQ%3D%3D?line=0'>1</a>\u001b[0m \u001b[39mimport\u001b[39;00m \u001b[39mpandas\u001b[39;00m\u001b[39m.\u001b[39;00m\u001b[39mio\u001b[39;00m\u001b[39m.\u001b[39;00m\u001b[39mdata\u001b[39;00m \u001b[39mas\u001b[39;00m \u001b[39mweb\u001b[39;00m\n\u001b[0;32m      <a href='vscode-notebook-cell:/c%3A/Users/guill/Desktop/python%20derivatives/Chapter%202.ipynb#X11sZmlsZQ%3D%3D?line=1'>2</a>\u001b[0m \u001b[39mfrom\u001b[39;00m \u001b[39mGBM_returns\u001b[39;00m \u001b[39mimport\u001b[39;00m \u001b[39m*\u001b[39m\n\u001b[0;32m      <a href='vscode-notebook-cell:/c%3A/Users/guill/Desktop/python%20derivatives/Chapter%202.ipynb#X11sZmlsZQ%3D%3D?line=2'>3</a>\u001b[0m \u001b[39m# Read Data for DAX from the Web\u001b[39;00m\n",
      "\u001b[1;31mModuleNotFoundError\u001b[0m: No module named 'pandas.io.data'"
     ]
    }
   ],
   "source": [
    "import pandas.io.data as web\n",
    "from GBM_returns import *\n",
    "# Read Data for DAX from the Web\n",
    "def read_dax_data():\n",
    "    ''' Reads historical DAX data from Yahoo! Finance, calculates log returns,\n",
    "    realized variance and volatility.'''\n",
    "    DAX = web.DataReader('ˆGDAXI', data_source='yahoo',\n",
    "    start='30-09-2004', end='30-09-2014')\n",
    "    DAX.rename(columns={'Adj Close' : 'index'}, inplace=True)\n",
    "    DAX['returns'] = np.log(DAX['index'] / DAX['index'].shift(1))\n",
    "    DAX['rea_var'] = 252 * np.cumsum(DAX['returns'] ** 2) / np.arange(len(DAX))\n",
    "    DAX['rea_vol'] = np.sqrt(DAX['rea_var'])\n",
    "    DAX = DAX.dropna()\n",
    "    return DAX\n",
    "\n",
    "def count_jumps(data, value):\n",
    "    ''' Counts the number of return jumps as defined in size by value. '''\n",
    "    jumps = np.sum(np.abs(data['returns']) > value)\n",
    "    return jumps"
   ]
  },
  {
   "cell_type": "code",
   "execution_count": null,
   "metadata": {},
   "outputs": [],
   "source": []
  }
 ],
 "metadata": {
  "kernelspec": {
   "display_name": "Python 3",
   "language": "python",
   "name": "python3"
  },
  "language_info": {
   "codemirror_mode": {
    "name": "ipython",
    "version": 3
   },
   "file_extension": ".py",
   "mimetype": "text/x-python",
   "name": "python",
   "nbconvert_exporter": "python",
   "pygments_lexer": "ipython3",
   "version": "3.10.4"
  },
  "orig_nbformat": 4
 },
 "nbformat": 4,
 "nbformat_minor": 2
}
